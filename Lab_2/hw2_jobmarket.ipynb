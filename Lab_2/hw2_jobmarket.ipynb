{
 "cells": [
  {
   "cell_type": "code",
   "execution_count": 1,
   "metadata": {},
   "outputs": [],
   "source": [
    "# Step 1: Import necessary libraries\n",
    "import pandas as pd"
   ]
  },
  {
   "cell_type": "code",
   "execution_count": 3,
   "metadata": {},
   "outputs": [],
   "source": [
    "# Step 2: Load the data using Pandas\n",
    "df = pd.read_csv(r'C:\\Users\\ungdu\\Downloads\\Lab_1+2\\Lab_2\\job_market.csv')"
   ]
  },
  {
   "cell_type": "code",
   "execution_count": 6,
   "metadata": {},
   "outputs": [
    {
     "name": "stdout",
     "output_type": "stream",
     "text": [
      "Top 10 rows of the data:\n",
      "         Id                                              Title  \\\n",
      "0  37404348                           Casual Stock Replenisher   \n",
      "1  37404337                           Casual Stock Replenisher   \n",
      "2  37404356  RETAIL SALES SUPERSTARS and STYLISTS Wanted - ...   \n",
      "3  37404330                              Team member - Belrose   \n",
      "4  37404308  Business Banking Contact Centre Specialist, Ni...   \n",
      "5  37404307  Business Banking Contact Centre Specialist, Ni...   \n",
      "6  37404355               Casual Café All-rounder in Semaphore   \n",
      "7  37404350           Casual Café All-rounder in Woolloongabba   \n",
      "8  37404301                                       Telemarketer   \n",
      "9  37404286                       Casual Dish Hand in Brighton   \n",
      "\n",
      "                                          Company                      Date  \\\n",
      "0                                     Aldi Stores  2018-10-07T00:00:00.000Z   \n",
      "1                                     Aldi Stores  2018-10-07T00:00:00.000Z   \n",
      "2                             LB Creative Pty Ltd  2018-10-07T00:00:00.000Z   \n",
      "3                          Anaconda Group Pty Ltd  2018-10-07T00:00:00.000Z   \n",
      "4  Commonwealth Bank - Business & Private Banking  2018-10-07T00:00:00.000Z   \n",
      "5  Commonwealth Bank - Business & Private Banking  2018-10-07T00:00:00.000Z   \n",
      "6                                      Jora Local  2018-10-07T00:00:00.000Z   \n",
      "7                                      Jora Local  2018-10-07T00:00:00.000Z   \n",
      "8                            Reventon Investments  2018-10-07T00:00:00.000Z   \n",
      "9                                      Jora Local  2018-10-07T00:00:00.000Z   \n",
      "\n",
      "                  Location                             Area  \\\n",
      "0                   Sydney      North West & Hills District   \n",
      "1    Richmond & Hawkesbury                              NaN   \n",
      "2                 Brisbane              CBD & Inner Suburbs   \n",
      "3  Gosford & Central Coast                              NaN   \n",
      "4                   Sydney            Ryde & Macquarie Park   \n",
      "5                   Sydney            Ryde & Macquarie Park   \n",
      "6                 Adelaide                              NaN   \n",
      "7                 Brisbane              CBD & Inner Suburbs   \n",
      "8                Melbourne              CBD & Inner Suburbs   \n",
      "9                Melbourne  Bayside & South Eastern Suburbs   \n",
      "\n",
      "                   Classification               SubClassification  \\\n",
      "0      Retail & Consumer Products               Retail Assistants   \n",
      "1      Retail & Consumer Products               Retail Assistants   \n",
      "2      Retail & Consumer Products               Retail Assistants   \n",
      "3      Retail & Consumer Products               Retail Assistants   \n",
      "4  Call Centre & Customer Service                 Sales - Inbound   \n",
      "5  Call Centre & Customer Service  Customer Service - Call Centre   \n",
      "6           Hospitality & Tourism                   Waiting Staff   \n",
      "7           Hospitality & Tourism                   Waiting Staff   \n",
      "8  Call Centre & Customer Service                Sales - Outbound   \n",
      "9           Hospitality & Tourism        Kitchen & Sandwich Hands   \n",
      "\n",
      "                                         Requirement FullDescription  \\\n",
      "0  Our Casual Stock Replenishers pride themselves...             NaN   \n",
      "1  Our Casual Stock Replenishers pride themselves...             NaN   \n",
      "2  BRAND NEW FLAGSHIP STORE OPENING - SUNSHINE PLAZA             NaN   \n",
      "3  Bring it on - do you love the great outdoors a...             NaN   \n",
      "4  We are seeking highly articulate, enthusiastic...             NaN   \n",
      "5  We are seeking highly articulate, enthusiastic...             NaN   \n",
      "6  A cafe/restaurant in Semaphore is seeking a ca...             NaN   \n",
      "7  A cafe in Woolloongabba is seeking a casual Ca...             NaN   \n",
      "8  Market leading investment & financial services...             NaN   \n",
      "9  A restaurant in Brighton is seeking a casual D...             NaN   \n",
      "\n",
      "   LowestSalary  HighestSalary JobType  \n",
      "0             0             30     NaN  \n",
      "1             0             30     NaN  \n",
      "2             0             30     NaN  \n",
      "3             0             30     NaN  \n",
      "4             0             30     NaN  \n",
      "5             0             30     NaN  \n",
      "6             0             30     NaN  \n",
      "7             0             30     NaN  \n",
      "8             0             30     NaN  \n",
      "9             0             30     NaN  \n"
     ]
    }
   ],
   "source": [
    "# Step 3: Visualize top 10 first rows\n",
    "print(\"Top 10 rows of the data:\")\n",
    "print(df.head(10))"
   ]
  },
  {
   "cell_type": "code",
   "execution_count": 9,
   "metadata": {},
   "outputs": [],
   "source": [
    "# Step 4: Fix column datatypes\n",
    "# Assuming 'Date' column needs to be converted to datetime datatype\n",
    "df['Date'] = pd.to_datetime(df['Date'])"
   ]
  },
  {
   "cell_type": "code",
   "execution_count": 11,
   "metadata": {},
   "outputs": [
    {
     "name": "stdout",
     "output_type": "stream",
     "text": [
      "\n",
      "Missing values in the dataset:\n",
      "Id                      0\n",
      "Title                   0\n",
      "Company               616\n",
      "Date                    0\n",
      "Location                0\n",
      "Area                 3707\n",
      "Classification          0\n",
      "SubClassification       0\n",
      "Requirement             0\n",
      "FullDescription       256\n",
      "LowestSalary            0\n",
      "HighestSalary           0\n",
      "JobType               247\n",
      "dtype: int64\n"
     ]
    }
   ],
   "source": [
    "\n",
    "# Step 5: Check for missing values and clean the data\n",
    "# Check for missing values\n",
    "print(\"\\nMissing values in the dataset:\")\n",
    "print(df.isnull().sum())"
   ]
  },
  {
   "cell_type": "code",
   "execution_count": 13,
   "metadata": {},
   "outputs": [],
   "source": [
    "# Dropping the 'Area' column\n",
    "df.drop(columns=['Area'], inplace=True)"
   ]
  },
  {
   "cell_type": "code",
   "execution_count": 14,
   "metadata": {},
   "outputs": [
    {
     "name": "stdout",
     "output_type": "stream",
     "text": [
      "\n",
      "After cleaning:\n",
      "         Id                                              Title  \\\n",
      "0  37404348                           Casual Stock Replenisher   \n",
      "1  37404337                           Casual Stock Replenisher   \n",
      "2  37404356  RETAIL SALES SUPERSTARS and STYLISTS Wanted - ...   \n",
      "3  37404330                              Team member - Belrose   \n",
      "4  37404308  Business Banking Contact Centre Specialist, Ni...   \n",
      "\n",
      "                                          Company                      Date  \\\n",
      "0                                     Aldi Stores 2018-10-07 00:00:00+00:00   \n",
      "1                                     Aldi Stores 2018-10-07 00:00:00+00:00   \n",
      "2                             LB Creative Pty Ltd 2018-10-07 00:00:00+00:00   \n",
      "3                          Anaconda Group Pty Ltd 2018-10-07 00:00:00+00:00   \n",
      "4  Commonwealth Bank - Business & Private Banking 2018-10-07 00:00:00+00:00   \n",
      "\n",
      "                  Location                  Classification  SubClassification  \\\n",
      "0                   Sydney      Retail & Consumer Products  Retail Assistants   \n",
      "1    Richmond & Hawkesbury      Retail & Consumer Products  Retail Assistants   \n",
      "2                 Brisbane      Retail & Consumer Products  Retail Assistants   \n",
      "3  Gosford & Central Coast      Retail & Consumer Products  Retail Assistants   \n",
      "4                   Sydney  Call Centre & Customer Service    Sales - Inbound   \n",
      "\n",
      "                                         Requirement FullDescription  \\\n",
      "0  Our Casual Stock Replenishers pride themselves...             NaN   \n",
      "1  Our Casual Stock Replenishers pride themselves...             NaN   \n",
      "2  BRAND NEW FLAGSHIP STORE OPENING - SUNSHINE PLAZA             NaN   \n",
      "3  Bring it on - do you love the great outdoors a...             NaN   \n",
      "4  We are seeking highly articulate, enthusiastic...             NaN   \n",
      "\n",
      "   LowestSalary  HighestSalary JobType  \n",
      "0             0             30     NaN  \n",
      "1             0             30     NaN  \n",
      "2             0             30     NaN  \n",
      "3             0             30     NaN  \n",
      "4             0             30     NaN  \n"
     ]
    }
   ],
   "source": [
    "# Check if cleaning is successful\n",
    "print(\"\\nAfter cleaning:\")\n",
    "print(df.head())"
   ]
  }
 ],
 "metadata": {
  "kernelspec": {
   "display_name": "Python 3",
   "language": "python",
   "name": "python3"
  },
  "language_info": {
   "codemirror_mode": {
    "name": "ipython",
    "version": 3
   },
   "file_extension": ".py",
   "mimetype": "text/x-python",
   "name": "python",
   "nbconvert_exporter": "python",
   "pygments_lexer": "ipython3",
   "version": "3.12.2"
  }
 },
 "nbformat": 4,
 "nbformat_minor": 2
}
