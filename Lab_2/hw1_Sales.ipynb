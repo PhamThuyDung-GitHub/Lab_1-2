{
 "cells": [
  {
   "cell_type": "code",
   "execution_count": 34,
   "metadata": {},
   "outputs": [],
   "source": [
    "import pandas as pd"
   ]
  },
  {
   "cell_type": "code",
   "execution_count": 35,
   "metadata": {},
   "outputs": [],
   "source": [
    "df = pd.read_csv(r'C:\\Users\\ungdu\\Downloads\\sales.csv')"
   ]
  },
  {
   "cell_type": "code",
   "execution_count": 36,
   "metadata": {},
   "outputs": [
    {
     "name": "stdout",
     "output_type": "stream",
     "text": [
      "   order_id                       name           ordered_at  price  quantity  \\\n",
      "0     10000   \"ICE CREAM\" Peanut Fudge  2018-01-01 11:30:00  $3.50         3   \n",
      "1     10000   \"ICE CREAM\" Peanut Fudge  2018-01-01 11:30:00  $3.50         1   \n",
      "2     10001         \"SORBET\" Raspberry  2018-01-01 12:14:54  $2.50         2   \n",
      "3     10001                        NaN  2018-01-01 12:14:54  $1.50         1   \n",
      "4     10001  \"CONE\" Dipped Waffle Cone  2018-01-01 12:14:54  $3.50         1   \n",
      "5     10002            \"SORBET\" Lychee  2018-01-01 12:23:09  $3.00         1   \n",
      "6     10002                        NaN  2018-01-01 12:23:09  $3.00         3   \n",
      "7     10002      \"ICE CREAM\" Earl Gray  2018-01-01 12:23:09  $0.50         3   \n",
      "8     10003         \"ICE CREAM\" Matcha  2018-01-01 12:49:35  $1.50         3   \n",
      "9     10004     \"BEVERAGE\" Iced Coffee  2018-01-01 13:22:59  $2.50         2   \n",
      "\n",
      "  line_total  \n",
      "0     $10.50  \n",
      "1      $3.50  \n",
      "2      $5.00  \n",
      "3      $1.50  \n",
      "4      $3.50  \n",
      "5      $3.00  \n",
      "6      $9.00  \n",
      "7      $1.50  \n",
      "8      $4.50  \n",
      "9      $5.00  \n"
     ]
    }
   ],
   "source": [
    "print(df.head(10))"
   ]
  },
  {
   "cell_type": "code",
   "execution_count": 37,
   "metadata": {},
   "outputs": [],
   "source": [
    "#Step 1: Fix Column Datatypes\n",
    "# Convert 'order_id' to string\n",
    "df['order_id'] = df['order_id'].astype(str)\n",
    "\n"
   ]
  },
  {
   "cell_type": "code",
   "execution_count": 38,
   "metadata": {},
   "outputs": [],
   "source": [
    "# Convert 'ordered_at' to datetime\n",
    "df['ordered_at'] = pd.to_datetime(df['ordered_at'])\n"
   ]
  },
  {
   "cell_type": "code",
   "execution_count": 39,
   "metadata": {},
   "outputs": [],
   "source": [
    "# Remove dollar sign and convert 'price' and 'line_total' to numeric\n",
    "df['price'] = pd.to_numeric(df['price'].str.replace('$', '', regex=False))\n",
    "df['line_total'] = pd.to_numeric(df['line_total'].str.replace('$', '', regex=False))"
   ]
  },
  {
   "cell_type": "code",
   "execution_count": 43,
   "metadata": {},
   "outputs": [],
   "source": [
    "#Step 2: Drop Duplicated or Null Rows\n",
    "# Drop rows where 'name' is null\n",
    "df.dropna(subset=['name'], inplace=True)\n"
   ]
  },
  {
   "cell_type": "code",
   "execution_count": 44,
   "metadata": {},
   "outputs": [],
   "source": [
    "\n",
    "# Drop duplicated rows\n",
    "df.drop_duplicates(inplace=True)"
   ]
  },
  {
   "cell_type": "code",
   "execution_count": 45,
   "metadata": {},
   "outputs": [],
   "source": [
    "#Step 3: Sanity Check for Value Ranges and Assumptions\n",
    "# Ensure 'price' and 'quantity' are positive\n",
    "df = df[(df['price'] > 0) & (df['quantity'] > 0)]"
   ]
  },
  {
   "cell_type": "code",
   "execution_count": 46,
   "metadata": {},
   "outputs": [],
   "source": [
    "\n",
    "# Verify 'line_total' is correct\n",
    "df = df[df['line_total'] == df['price'] * df['quantity']]"
   ]
  },
  {
   "cell_type": "code",
   "execution_count": 42,
   "metadata": {},
   "outputs": [],
   "source": [
    "#Step 4: Use Regular Expression and Lambda Function to Parse Data\n",
    "import re\n",
    "# Extract product type from 'name'\n",
    "df['product_type'] = df['name'].apply(lambda x: re.search(r'\"([^\"]*)\"', x).group(1) if pd.notnull(x) else None)\n"
   ]
  }
 ],
 "metadata": {
  "kernelspec": {
   "display_name": "Python 3",
   "language": "python",
   "name": "python3"
  },
  "language_info": {
   "codemirror_mode": {
    "name": "ipython",
    "version": 3
   },
   "file_extension": ".py",
   "mimetype": "text/x-python",
   "name": "python",
   "nbconvert_exporter": "python",
   "pygments_lexer": "ipython3",
   "version": "3.12.2"
  }
 },
 "nbformat": 4,
 "nbformat_minor": 2
}
