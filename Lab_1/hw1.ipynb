{
 "cells": [
  {
   "cell_type": "code",
   "execution_count": 1,
   "metadata": {},
   "outputs": [
    {
     "data": {
      "text/plain": [
       "2401"
      ]
     },
     "execution_count": 1,
     "metadata": {},
     "output_type": "execute_result"
    }
   ],
   "source": [
    "result = 7 ** 4\n",
    "result"
   ]
  },
  {
   "cell_type": "code",
   "execution_count": 2,
   "metadata": {},
   "outputs": [
    {
     "data": {
      "text/plain": [
       "['Hi', 'there', 'Sam!']"
      ]
     },
     "execution_count": 2,
     "metadata": {},
     "output_type": "execute_result"
    }
   ],
   "source": [
    "s = \"Hi there Sam!\"\n",
    "split_list = s.split()\n",
    "split_list"
   ]
  },
  {
   "cell_type": "code",
   "execution_count": 11,
   "metadata": {},
   "outputs": [],
   "source": [
    "planet = \"Earth\"\n",
    "diameter = 12742"
   ]
  },
  {
   "cell_type": "code",
   "execution_count": 12,
   "metadata": {},
   "outputs": [
    {
     "data": {
      "text/plain": [
       "'The diameter of Earth is 12742 kilometers.'"
      ]
     },
     "execution_count": 12,
     "metadata": {},
     "output_type": "execute_result"
    }
   ],
   "source": [
    "formatted_string = \"The diameter of {} is {} kilometers.\".format(planet, diameter)\n",
    "formatted_string"
   ]
  },
  {
   "cell_type": "code",
   "execution_count": 13,
   "metadata": {},
   "outputs": [],
   "source": [
    "lst = [1, 2, [3, 4], [5, [100, 200, ['hello']], 23, 11], 1, 7]"
   ]
  },
  {
   "cell_type": "code",
   "execution_count": 14,
   "metadata": {},
   "outputs": [
    {
     "data": {
      "text/plain": [
       "'hello'"
      ]
     },
     "execution_count": 14,
     "metadata": {},
     "output_type": "execute_result"
    }
   ],
   "source": [
    "hello_word = lst[3][1][2][0]\n",
    "hello_word"
   ]
  },
  {
   "cell_type": "code",
   "execution_count": 15,
   "metadata": {},
   "outputs": [
    {
     "data": {
      "text/plain": [
       "'hello'"
      ]
     },
     "execution_count": 15,
     "metadata": {},
     "output_type": "execute_result"
    }
   ],
   "source": [
    "d = {'k1':[1,2,3,{'tricky':['oh','man','inception',{'target':[1,2,3,'hello']}]}]}\n",
    "\n",
    "hello_word = d['k1'][3]['tricky'][3]['target'][3]\n",
    "hello_word"
   ]
  },
  {
   "cell_type": "code",
   "execution_count": 16,
   "metadata": {},
   "outputs": [
    {
     "name": "stdout",
     "output_type": "stream",
     "text": [
      "List after appending: [1, 2, 3, 4]\n"
     ]
    }
   ],
   "source": [
    "my_list = [1, 2, 3]\n",
    "my_list.append(4)  \n",
    "print('List after appending:', my_list)"
   ]
  },
  {
   "cell_type": "code",
   "execution_count": 17,
   "metadata": {},
   "outputs": [
    {
     "name": "stdout",
     "output_type": "stream",
     "text": [
      "Original tuple: (1, 2, 3)\n"
     ]
    }
   ],
   "source": [
    "# Tuple example\n",
    "my_tuple = (1, 2, 3)\n",
    "\n",
    "\n",
    "print('Original tuple:', my_tuple)"
   ]
  },
  {
   "cell_type": "code",
   "execution_count": 18,
   "metadata": {},
   "outputs": [
    {
     "name": "stdout",
     "output_type": "stream",
     "text": [
      "Error: 'tuple' object does not support item assignment\n"
     ]
    },
    {
     "data": {
      "text/plain": [
       "([1, 2, 3, 4], (1, 2, 3))"
      ]
     },
     "execution_count": 18,
     "metadata": {},
     "output_type": "execute_result"
    }
   ],
   "source": [
    "\n",
    "# Trying to change an element of a tuple (should result in an error)\n",
    "try:\n",
    "    my_tuple[0] = 4\n",
    "except TypeError as e:\n",
    "    print('Error:', e)\n",
    "\n",
    "# Outputs\n",
    "my_list, my_tuple"
   ]
  },
  {
   "cell_type": "code",
   "execution_count": 19,
   "metadata": {},
   "outputs": [],
   "source": [
    "# Defining the function to grab the email domain from an email address\n",
    "def domainGet(email):\n",
    "    return email.split('@')[-1]\n",
    "\n",
    "domain = domainGet('user@domain.com')\n",
    "\n",
    "# Defining a function that checks if 'dog' is in the string, accounting for capitalization\n",
    "def findDog(st):\n",
    "    return 'dog' in st.lower()\n",
    "\n",
    "contains_dog1 = findDog('My Dog loves playing in the park.')\n",
    "contains_dog2 = findDog('It is raining cats and dogs.')\n"
   ]
  },
  {
   "cell_type": "code",
   "execution_count": 20,
   "metadata": {},
   "outputs": [
    {
     "data": {
      "text/plain": [
       "('domain.com', True, True)"
      ]
     },
     "execution_count": 20,
     "metadata": {},
     "output_type": "execute_result"
    }
   ],
   "source": [
    "domain, contains_dog1, contains_dog2"
   ]
  },
  {
   "cell_type": "code",
   "execution_count": 22,
   "metadata": {},
   "outputs": [
    {
     "data": {
      "text/plain": [
       "(2, ['soup', 'salad'])"
      ]
     },
     "execution_count": 22,
     "metadata": {},
     "output_type": "execute_result"
    }
   ],
   "source": [
    "# Defining the function that counts the number of times the word \"dog\" occurs in a string\n",
    "def countDog(st):\n",
    "    return st.lower().count('dog')\n",
    "\n",
    "# Defining the function to filter out words from a list that don't start with 's' using lambda\n",
    "def filter_words(word_list):\n",
    "    return list(filter(lambda word: word.startswith('s'), word_list))\n",
    "\n",
    "# Testing the countDog function\n",
    "dog_count = countDog('This dog runs faster than the other dog dude!')\n",
    "\n",
    "# Testing the filter function with a given sequence\n",
    "seq = ['soup', 'dog', 'salad', 'cat', 'great']\n",
    "filtered_seq = filter_words(seq)\n",
    "\n",
    "dog_count, filtered_seq\n"
   ]
  },
  {
   "cell_type": "code",
   "execution_count": 23,
   "metadata": {},
   "outputs": [
    {
     "data": {
      "text/plain": [
       "('Small Ticket', 'Big Ticket')"
      ]
     },
     "execution_count": 23,
     "metadata": {},
     "output_type": "execute_result"
    }
   ],
   "source": [
    "# Defining the function as per the problem statement\n",
    "def caught_speeding(speed, is_birthday):\n",
    "    allowance = 5 if is_birthday else 0\n",
    "\n",
    "    if speed <= 60 + allowance:\n",
    "        return 'No Ticket'\n",
    "    elif 61 <= speed <= 80 + allowance:\n",
    "        return 'Small Ticket'\n",
    "    else:\n",
    "        return 'Big Ticket'\n",
    "\n",
    "# Testing the function\n",
    "ticket_1 = caught_speeding(81, True)\n",
    "ticket_2 = caught_speeding(81, False)\n",
    "\n",
    "ticket_1, ticket_2\n"
   ]
  }
 ],
 "metadata": {
  "kernelspec": {
   "display_name": "Python 3",
   "language": "python",
   "name": "python3"
  },
  "language_info": {
   "codemirror_mode": {
    "name": "ipython",
    "version": 3
   },
   "file_extension": ".py",
   "mimetype": "text/x-python",
   "name": "python",
   "nbconvert_exporter": "python",
   "pygments_lexer": "ipython3",
   "version": "3.12.2"
  }
 },
 "nbformat": 4,
 "nbformat_minor": 2
}
